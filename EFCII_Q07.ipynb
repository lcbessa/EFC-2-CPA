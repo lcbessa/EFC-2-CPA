{
  "cells": [
    {
      "cell_type": "markdown",
      "metadata": {
        "id": "3HxSfrJoX2vc"
      },
      "source": [
        "# EFC2 GCC253 - Complexidade e Projeto de Algoritmos\n",
        "\n",
        "\n",
        "> **Prof.: Douglas H. S. Abreu**\n",
        "\n",
        "\n",
        "**Aluno**: Luiz Carlos Bessa de Lima\n",
        "\n",
        "**Matricula**: 201821256\n",
        "\n",
        "**Aluno**: Taiane Rodrigues de Sousa\n",
        "\n",
        "**Matricula**: 201821036\n",
        "\n",
        "**Turma**: 10A\n",
        "\n",
        "Link do repositório GitHub: https://github.com/lcbessa/EFC-2-CPA"
      ]
    },
    {
      "cell_type": "markdown",
      "metadata": {
        "id": "fPsVzBRCYOhz"
      },
      "source": [
        "### 7. (EXERCÍCIO EXTRA) programe (linguagem de sua preferência) os 2 modos Fibonacci do exercício 6 e demonstre sua eficiência."
      ]
    },
    {
      "cell_type": "markdown",
      "metadata": {
        "id": "gea4fB8wprj1"
      },
      "source": [
        "Sequência de Fibonacci Recursiva"
      ]
    },
    {
      "cell_type": "code",
      "execution_count": 300,
      "metadata": {
        "colab": {
          "base_uri": "https://localhost:8080/"
        },
        "id": "OpHDZgL_nQB8",
        "outputId": "42b70c1e-8ab5-4257-db7a-9ade01e4a54c"
      },
      "outputs": [
        {
          "name": "stdout",
          "output_type": "stream",
          "text": [
            "Os 12 primeiros da sequência:\n",
            "0, 1, 1, 2, 3, 5, 8, 13, 21, 34, 55, 89\n"
          ]
        }
      ],
      "source": [
        "def FibRec(n):\n",
        "    if n <= 1:\n",
        "        return n\n",
        "    else:\n",
        "        return FibRec(n - 1) + FibRec(n - 2)\n",
        "\n",
        "print(\"Os 12 primeiros da sequência:\")\n",
        "for i in range(12):\n",
        "    if(i != 11):\n",
        "        print(FibRec(i), end=\", \")\n",
        "    else: \n",
        "        print(FibRec(i))"
      ]
    },
    {
      "cell_type": "markdown",
      "metadata": {
        "id": "pO5WJ5_cKkyr"
      },
      "source": [
        "Sequência de Fibonacci com Programação Dinâmica Recursiva"
      ]
    },
    {
      "cell_type": "code",
      "execution_count": 312,
      "metadata": {
        "colab": {
          "base_uri": "https://localhost:8080/"
        },
        "id": "B0BQgjuZoatI",
        "outputId": "ac59a9af-7e94-419c-9d59-f3fced15d217"
      },
      "outputs": [
        {
          "name": "stdout",
          "output_type": "stream",
          "text": [
            "Os 12 primeiros da sequência:\n",
            "0, 1, 1, 2, 3, 5, 8, 13, 21, 34, 55, 89\n"
          ]
        }
      ],
      "source": [
        "def FibPDRec(n, mem = []):\n",
        "   while len(mem) < n + 1: \n",
        "     mem.append(0)\n",
        "   if n <= 1:\n",
        "       return n\n",
        "   else:\n",
        "       if mem[n-1] == 0:\n",
        "           mem[n-1] = FibPDRec(n-1)\n",
        "\n",
        "       if mem[n-2] == 0:\n",
        "           mem[n-2] = FibPDRec(n-2)\n",
        "\n",
        "       mem[n] = mem[n-2] + mem[n-1]\n",
        "   return mem[n]\n",
        "\n",
        "print(\"Os 12 primeiros da sequência:\")\n",
        "for i in range(12):\n",
        "    if(i != 11):\n",
        "        print(FibRec(i), end=\", \")\n",
        "    else: \n",
        "        print(FibRec(i))"
      ]
    },
    {
      "cell_type": "markdown",
      "metadata": {
        "id": "jFh0zEnfS_mh"
      },
      "source": [
        "Comparação do tempo de execução entre os algoritmos de Fibonacci acima:"
      ]
    },
    {
      "cell_type": "code",
      "execution_count": 325,
      "metadata": {
        "colab": {
          "base_uri": "https://localhost:8080/",
          "height": 369
        },
        "id": "tbUXW8UNLpzD",
        "outputId": "a04bda16-3704-4000-a5d6-5404618661c6"
      },
      "outputs": [
        {
          "name": "stdout",
          "output_type": "stream",
          "text": [
            "Fibonacci Recursivo\n",
            "Tempo de execução: 0.0017600\n",
            "\n",
            "Fibonacci Recursivo com Programação Dinâmica\n",
            "Tempo de execução: 0.0003510\n",
            "\n"
          ]
        },
        {
          "data": {
            "image/png": "[encoded data removed]",
            "text/plain": [
              "<Figure size 432x288 with 1 Axes>"
            ]
          },
          "metadata": {
            "needs_background": "light"
          },
          "output_type": "display_data"
        }
      ],
      "source": [
        "from time import clock\n",
        "import matplotlib.pyplot as plt\n",
        "\n",
        "inicio = clock()\n",
        "FibRec(10)\n",
        "print(\"Fibonacci Recursivo\")\n",
        "print(\"Tempo de execução:\", \"{:.7f}\".format(clock() - inicio))\n",
        "print()\n",
        "\n",
        "inicio2 = clock()\n",
        "FibPDRec(10)\n",
        "print(\"Fibonacci Recursivo com Programação Dinâmica\")\n",
        "print(\"Tempo de execução:\", \"{:.7f}\".format(clock() - inicio2))\n",
        "print()\n",
        "\n",
        "plt.bar('FibPDRec', clock() - inicio2, color='green')\n",
        "plt.bar('FibRec', clock() - inicio, color='red')\n",
        "plt.ylabel('Tempo de execução')\n",
        "plt.show()"
      ]
    },
    {
      "cell_type": "markdown",
      "metadata": {
        "id": "oMga-bbrZtwZ"
      },
      "source": [
        "Dessa forma, concluímos que o algoritmo de fibonacci recursivo com programação dinâmica possui melhor eficiência em comparação ao algoritmo de fibonacci recursivo."
      ]
    }
  ],
  "metadata": {
    "colab": {
      "collapsed_sections": [],
      "name": "EFCII-Q07.ipynb",
      "provenance": []
    },
    "kernelspec": {
      "display_name": "Python 3.10.4 64-bit",
      "language": "python",
      "name": "python3"
    },
    "language_info": {
      "name": "python",
      "version": "3.10.4"
    },
    "vscode": {
      "interpreter": {
        "hash": "916dbcbb3f70747c44a77c7bcd40155683ae19c65e1c03b4aa3499c5328201f1"
      }
    }
  },
  "nbformat": 4,
  "nbformat_minor": 0
}
